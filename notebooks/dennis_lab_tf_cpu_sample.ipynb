{
 "cells": [
  {
   "cell_type": "code",
   "execution_count": 1,
   "metadata": {},
   "outputs": [
    {
     "name": "stdout",
     "output_type": "stream",
     "text": [
      "####### Calculating #######\n",
      "[[ 135.625   131.375   122.1875 ...,  133.375   132.5     129.25  ]\n",
      " [ 133.      136.      123.4375 ...,  131.75    128.      129.125 ]\n",
      " [ 135.875   133.125   123.25   ...,  131.375   129.5     126.75  ]\n",
      " ..., \n",
      " [ 131.375   128.875   116.625  ...,  125.1875  128.125   128.125 ]\n",
      " [ 130.75    125.3125  117.125  ...,  125.5     129.      123.625 ]\n",
      " [ 134.375   134.625   123.     ...,  129.375   131.625   132.75  ]]\n",
      "[0.45270633697509766]\n",
      "####### Calculating #######\n",
      "[[ 136.     129.25   130.125 ...,  137.375  135.25   132.   ]\n",
      " [ 136.25   124.75   132.375 ...,  133.75   140.     134.125]\n",
      " [ 138.125  135.     135.75  ...,  143.     141.375  140.375]\n",
      " ..., \n",
      " [ 134.     125.5    128.25  ...,  134.375  131.75   132.   ]\n",
      " [ 139.     132.375  132.5   ...,  139.75   135.875  136.5  ]\n",
      " [ 136.     130.5    129.25  ...,  138.5    137.     134.875]]\n",
      "[0.45270633697509766, 0.5674030780792236]\n",
      "####### Calculating #######\n",
      "[[ 154.125  146.     155.75  ...,  145.     150.     153.   ]\n",
      " [ 156.5    150.25   156.25  ...,  143.25   147.25   154.   ]\n",
      " [ 160.75   153.875  159.    ...,  145.5    153.25   157.125]\n",
      " ..., \n",
      " [ 153.5    148.25   148.25  ...,  140.25   142.     150.5  ]\n",
      " [ 149.25   141.     146.25  ...,  135.5    143.25   144.25 ]\n",
      " [ 158.75   152.375  158.5   ...,  143.75   152.25   154.25 ]]\n",
      "[0.45270633697509766, 0.5674030780792236, 0.8061435222625732]\n",
      "####### Calculating #######\n",
      "[[ 162.75   161.625  161.625 ...,  153.625  149.75   155.5  ]\n",
      " [ 162.625  163.125  166.125 ...,  161.125  158.75   158.375]\n",
      " [ 164.25   165.5    161.125 ...,  160.5    156.625  160.25 ]\n",
      " ..., \n",
      " [ 163.25   164.25   164.125 ...,  161.875  158.75   166.5  ]\n",
      " [ 158.25   156.625  157.75  ...,  161.     154.625  157.   ]\n",
      " [ 165.625  168.625  162.125 ...,  159.125  159.125  162.5  ]]\n",
      "[0.45270633697509766, 0.5674030780792236, 0.8061435222625732, 1.0197219848632812]\n",
      "####### Calculating #######\n",
      "[[ 171.25   168.75   170.75  ...,  173.875  166.5    163.5  ]\n",
      " [ 174.875  176.75   179.125 ...,  175.125  171.5    175.125]\n",
      " [ 175.375  177.75   178.75  ...,  182.     174.125  172.5  ]\n",
      " ..., \n",
      " [ 179.75   179.25   178.75  ...,  178.875  175.625  176.   ]\n",
      " [ 174.625  176.125  178.5   ...,  180.     169.375  175.625]\n",
      " [ 173.625  172.125  173.125 ...,  179.125  169.75   171.375]]\n",
      "[0.45270633697509766, 0.5674030780792236, 0.8061435222625732, 1.0197219848632812, 1.288426399230957]\n",
      "####### Calculating #######\n",
      "[[ 187.5    182.125  184.125 ...,  180.     191.5    186.625]\n",
      " [ 177.625  178.125  180.25  ...,  180.125  179.75   178.75 ]\n",
      " [ 201.     193.     188.5   ...,  191.25   197.25   198.   ]\n",
      " ..., \n",
      " [ 191.375  186.75   181.75  ...,  180.25   188.625  179.625]\n",
      " [ 186.375  186.625  182.125 ...,  182.25   187.375  187.25 ]\n",
      " [ 192.75   194.25   193.5   ...,  188.625  196.625  195.25 ]]\n",
      "[0.45270633697509766, 0.5674030780792236, 0.8061435222625732, 1.0197219848632812, 1.288426399230957, 1.5581433773040771]\n"
     ]
    },
    {
     "data": {
      "image/png": "[encoded data removed]",
      "text/plain": [
       "<matplotlib.figure.Figure at 0x21f39c16668>"
      ]
     },
     "metadata": {},
     "output_type": "display_data"
    }
   ],
   "source": [
    "from __future__ import print_function\n",
    "import matplotlib\n",
    "import matplotlib.pyplot as plt\n",
    "import tensorflow as tf\n",
    "import time\n",
    "\n",
    "def get_times(maximum_time):\n",
    "\n",
    "    device_times = []\n",
    "    matrix_sizes = range(500,50000,50)\n",
    "\n",
    "    for size in matrix_sizes:\n",
    "            print(\"####### Calculating #######\")\n",
    "\n",
    "            shape = (size,size)\n",
    "            data_type = tf.float16\n",
    "            with tf.device(\"/cpu:0\"):\n",
    "                r1 = tf.random_uniform(shape=shape, minval=0, maxval=1, dtype=data_type)  \n",
    "                r2 = tf.random_uniform(shape=shape, minval=0, maxval=1, dtype=data_type)\n",
    "                dot_operation = tf.matmul(r2, r1)\n",
    "\n",
    "\n",
    "            with tf.Session(config=tf.ConfigProto(log_device_placement=True)) as session:\n",
    "                    start_time = time.time()\n",
    "                    result = session.run(dot_operation)\n",
    "                    time_taken = time.time() - start_time\n",
    "                    print(result)\n",
    "                    device_times.append(time_taken)\n",
    "\n",
    "            print(device_times)\n",
    "\n",
    "            if time_taken > maximum_time:\n",
    "                return device_times, matrix_sizes\n",
    "\n",
    "\n",
    "device_times, matrix_sizes = get_times(1.5)\n",
    "cpu_times = device_times\n",
    "\n",
    "plt.plot(matrix_sizes[:len(cpu_times)], cpu_times, 'o-')\n",
    "plt.ylabel('Time')\n",
    "plt.xlabel('Matrix size')\n",
    "plt.show()\n"
   ]
  },
  {
   "cell_type": "code",
   "execution_count": null,
   "metadata": {
    "collapsed": true
   },
   "outputs": [],
   "source": []
  }
 ],
 "metadata": {
  "kernelspec": {
   "display_name": "Python 3",
   "language": "python",
   "name": "python3"
  },
  "language_info": {
   "codemirror_mode": {
    "name": "ipython",
    "version": 3
   },
   "file_extension": ".py",
   "mimetype": "text/x-python",
   "name": "python",
   "nbconvert_exporter": "python",
   "pygments_lexer": "ipython3",
   "version": "3.5.0"
  }
 },
 "nbformat": 4,
 "nbformat_minor": 2
}
